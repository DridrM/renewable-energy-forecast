{
 "cells": [
  {
   "cell_type": "markdown",
   "metadata": {},
   "source": [
    "# Store the JSON data to csv"
   ]
  },
  {
   "cell_type": "markdown",
   "metadata": {},
   "source": [
    "The goal of this notebook is to test the store data functions."
   ]
  },
  {
   "cell_type": "code",
   "execution_count": 1,
   "metadata": {},
   "outputs": [],
   "source": [
    "import os\n",
    "from re_forecast.data.load_data import download_rte_data\n",
    "from re_forecast.data.format_data import extract_generation_units, extract_generation_values\n",
    "from re_forecast.data.store_data import store_to_csv\n",
    "from re_forecast.params import DATA_CSV_ENERGY_PRODUCTION_PATH"
   ]
  },
  {
   "cell_type": "markdown",
   "metadata": {},
   "source": [
    "## 1/ Store the units names"
   ]
  },
  {
   "cell_type": "markdown",
   "metadata": {},
   "source": [
    "We want to store the units names for each of the three ressources, by calling the RTE API without any parameters."
   ]
  },
  {
   "cell_type": "code",
   "execution_count": 4,
   "metadata": {},
   "outputs": [
    {
     "ename": "FileNotFoundError",
     "evalue": "[Errno 2] No such file or directory: '/home/bender/Data/personal_data_projects/renewable_energy_forecast/csv/energy_production/actual_generations_per_production_type__2024-2-5_21:00:00__all-units'",
     "output_type": "error",
     "traceback": [
      "\u001b[0;31m---------------------------------------------------------------------------\u001b[0m",
      "\u001b[0;31mFileNotFoundError\u001b[0m                         Traceback (most recent call last)",
      "Cell \u001b[0;32mIn[4], line 24\u001b[0m\n\u001b[1;32m     21\u001b[0m format_data \u001b[38;5;241m=\u001b[39m extract_generation_units(data, ressource)\n\u001b[1;32m     23\u001b[0m \u001b[38;5;66;03m# Store each units list into csv\u001b[39;00m\n\u001b[0;32m---> 24\u001b[0m \u001b[43mstore_to_csv\u001b[49m\u001b[43m(\u001b[49m\u001b[43mformat_data\u001b[49m\u001b[43m,\u001b[49m\n\u001b[1;32m     25\u001b[0m \u001b[43m             \u001b[49m\u001b[43mDATA_CSV_ENERGY_PRODUCTION_PATH\u001b[49m\u001b[43m,\u001b[49m\n\u001b[1;32m     26\u001b[0m \u001b[43m             \u001b[49m\u001b[43mressource\u001b[49m\u001b[43m,\u001b[49m\n\u001b[1;32m     27\u001b[0m \u001b[43m             \u001b[49m\u001b[43mstart_date\u001b[49m\u001b[43m,\u001b[49m\n\u001b[1;32m     28\u001b[0m \u001b[43m             \u001b[49m\u001b[43mend_date\u001b[49m\u001b[43m,\u001b[49m\n\u001b[1;32m     29\u001b[0m \u001b[43m             \u001b[49m\u001b[43meic_code\u001b[49m\u001b[43m,\u001b[49m\n\u001b[1;32m     30\u001b[0m \u001b[43m             \u001b[49m\u001b[43mprod_type\u001b[49m\u001b[43m,\u001b[49m\n\u001b[1;32m     31\u001b[0m \u001b[43m             \u001b[49m\u001b[43mprod_subtype\u001b[49m\u001b[43m)\u001b[49m\n",
      "File \u001b[0;32m~/Code/DridrM/personal_data_projects/renewable_energy_forecast/re_forecast/data/store_data.py:137\u001b[0m, in \u001b[0;36mstore_to_csv\u001b[0;34m(data, root_path, ressource_nb, start_date, end_date, eic_code, prod_type, prod_subtype, store_units_names)\u001b[0m\n\u001b[1;32m    128\u001b[0m csv_path \u001b[38;5;241m=\u001b[39m create_csv_path(root_path,\n\u001b[1;32m    129\u001b[0m                         ressource_nb,\n\u001b[1;32m    130\u001b[0m                         start_date \u001b[38;5;241m=\u001b[39m start_date,\n\u001b[0;32m   (...)\u001b[0m\n\u001b[1;32m    133\u001b[0m                         prod_type \u001b[38;5;241m=\u001b[39m prod_type,\n\u001b[1;32m    134\u001b[0m                         prod_subtype \u001b[38;5;241m=\u001b[39m prod_subtype)\n\u001b[1;32m    136\u001b[0m \u001b[38;5;66;03m# Again, write the csv if it doesn't exists already\u001b[39;00m\n\u001b[0;32m--> 137\u001b[0m \u001b[43mwrite_if_not_exists\u001b[49m\u001b[43m(\u001b[49m\u001b[43mdata\u001b[49m\u001b[43m,\u001b[49m\u001b[43m \u001b[49m\u001b[43mcsv_path\u001b[49m\u001b[43m)\u001b[49m\n",
      "File \u001b[0;32m~/Code/DridrM/personal_data_projects/renewable_energy_forecast/re_forecast/data/store_data.py:93\u001b[0m, in \u001b[0;36mwrite_if_not_exists\u001b[0;34m(data, csv_path)\u001b[0m\n\u001b[1;32m     90\u001b[0m \u001b[38;5;66;03m# Case 1: Verify if the file exists. If it doesn't exists :\u001b[39;00m\n\u001b[1;32m     91\u001b[0m \u001b[38;5;28;01mif\u001b[39;00m \u001b[38;5;129;01mnot\u001b[39;00m os\u001b[38;5;241m.\u001b[39mpath\u001b[38;5;241m.\u001b[39misfile(csv_path):\n\u001b[1;32m     92\u001b[0m     \u001b[38;5;66;03m# Write the csv\u001b[39;00m\n\u001b[0;32m---> 93\u001b[0m     \u001b[43mwrite_csv\u001b[49m\u001b[43m(\u001b[49m\u001b[43mdata\u001b[49m\u001b[43m,\u001b[49m\u001b[43m \u001b[49m\u001b[43mcsv_path\u001b[49m\u001b[43m)\u001b[49m\n\u001b[1;32m     95\u001b[0m \u001b[38;5;66;03m# Case 2: The file already exists.\u001b[39;00m\n\u001b[1;32m     96\u001b[0m \u001b[38;5;28;01melse\u001b[39;00m:\n\u001b[1;32m     97\u001b[0m     \u001b[38;5;66;03m# Print a message\u001b[39;00m\n\u001b[1;32m     98\u001b[0m     \u001b[38;5;28mprint\u001b[39m(\u001b[38;5;124mf\u001b[39m\u001b[38;5;124m\"\u001b[39m\u001b[38;5;124mThe file \u001b[39m\u001b[38;5;132;01m{\u001b[39;00mcsv_path\u001b[38;5;132;01m}\u001b[39;00m\u001b[38;5;124m already exists.\u001b[39m\u001b[38;5;124m\"\u001b[39m)\n",
      "File \u001b[0;32m~/Code/DridrM/personal_data_projects/renewable_energy_forecast/re_forecast/data/store_data.py:12\u001b[0m, in \u001b[0;36mwrite_csv\u001b[0;34m(data, csv_path)\u001b[0m\n\u001b[1;32m      7\u001b[0m \u001b[38;5;250m\u001b[39m\u001b[38;5;124;03m\"\"\"Write csv with the function csv.Dictwriter\u001b[39;00m\n\u001b[1;32m      8\u001b[0m \u001b[38;5;124;03mdata: list of dicts\u001b[39;00m\n\u001b[1;32m      9\u001b[0m \u001b[38;5;124;03mpath: path to file\"\"\"\u001b[39;00m\n\u001b[1;32m     11\u001b[0m \u001b[38;5;66;03m# Create the csv and open it with context manager\u001b[39;00m\n\u001b[0;32m---> 12\u001b[0m \u001b[38;5;28;01mwith\u001b[39;00m \u001b[38;5;28;43mopen\u001b[39;49m\u001b[43m(\u001b[49m\u001b[43mcsv_path\u001b[49m\u001b[43m,\u001b[49m\u001b[43m \u001b[49m\u001b[43mmode\u001b[49m\u001b[43m \u001b[49m\u001b[38;5;241;43m=\u001b[39;49m\u001b[43m \u001b[49m\u001b[38;5;124;43m\"\u001b[39;49m\u001b[38;5;124;43mw\u001b[39;49m\u001b[38;5;124;43m\"\u001b[39;49m\u001b[43m)\u001b[49m \u001b[38;5;28;01mas\u001b[39;00m f:\n\u001b[1;32m     13\u001b[0m     \u001b[38;5;66;03m# Create a writer object with the right field names\u001b[39;00m\n\u001b[1;32m     14\u001b[0m     writer \u001b[38;5;241m=\u001b[39m csv\u001b[38;5;241m.\u001b[39mDictWriter(f, fieldnames \u001b[38;5;241m=\u001b[39m data[\u001b[38;5;241m0\u001b[39m]\u001b[38;5;241m.\u001b[39mkeys())\n\u001b[1;32m     16\u001b[0m     \u001b[38;5;66;03m# Write the header\u001b[39;00m\n",
      "\u001b[0;31mFileNotFoundError\u001b[0m: [Errno 2] No such file or directory: '/home/bender/Data/personal_data_projects/renewable_energy_forecast/csv/energy_production/actual_generations_per_production_type__2024-2-5_21:00:00__all-units'"
     ]
    }
   ],
   "source": [
    "# Set all the params to None\n",
    "start_date = None\n",
    "end_date = None\n",
    "eic_code = None\n",
    "prod_type = None\n",
    "prod_subtype = None\n",
    "\n",
    "# We want to iterate over the three ressources\n",
    "ressources = [1, 2, 3]\n",
    "\n",
    "for ressource in ressources:\n",
    "    # Download the RTE data for ressource nb 1\n",
    "    data = download_rte_data(ressource,\n",
    "                             start_date,\n",
    "                             end_date,\n",
    "                             eic_code,\n",
    "                             prod_type,\n",
    "                             prod_subtype)\n",
    "\n",
    "    # Format the data in order to extract the units names\n",
    "    format_data = extract_generation_units(data, ressource)\n",
    "\n",
    "    # Store each units list into csv\n",
    "    store_to_csv(format_data,\n",
    "                 DATA_CSV_ENERGY_PRODUCTION_PATH,\n",
    "                 ressource,\n",
    "                 start_date,\n",
    "                 end_date,\n",
    "                 eic_code,\n",
    "                 prod_type,\n",
    "                 prod_subtype)"
   ]
  },
  {
   "cell_type": "code",
   "execution_count": null,
   "metadata": {},
   "outputs": [],
   "source": []
  }
 ],
 "metadata": {
  "kernelspec": {
   "display_name": "re_forecast_env",
   "language": "python",
   "name": "python3"
  },
  "language_info": {
   "codemirror_mode": {
    "name": "ipython",
    "version": 3
   },
   "file_extension": ".py",
   "mimetype": "text/x-python",
   "name": "python",
   "nbconvert_exporter": "python",
   "pygments_lexer": "ipython3",
   "version": "3.10.6"
  }
 },
 "nbformat": 4,
 "nbformat_minor": 2
}
