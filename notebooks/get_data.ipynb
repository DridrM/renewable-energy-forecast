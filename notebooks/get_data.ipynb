{
 "cells": [
  {
   "cell_type": "markdown",
   "metadata": {},
   "source": [
    "# Get data notebook"
   ]
  },
  {
   "cell_type": "markdown",
   "metadata": {},
   "source": [
    "This is the final step of the completion of the data package."
   ]
  },
  {
   "cell_type": "code",
   "execution_count": 22,
   "metadata": {},
   "outputs": [],
   "source": [
    "import time\n",
    "from copy import copy"
   ]
  },
  {
   "cell_type": "markdown",
   "metadata": {},
   "source": [
    "## 1/ Creating timing management decorators"
   ]
  },
  {
   "cell_type": "markdown",
   "metadata": {},
   "source": [
    "The first step is to develop some timing management decorators to use with the 'get_data' funtions. Thsese timing management decorators will help respect the time delay between each API call imposed by the API provider (RTE in the first place)."
   ]
  },
  {
   "cell_type": "code",
   "execution_count": 78,
   "metadata": {},
   "outputs": [
    {
     "data": {
      "text/plain": [
       "1708209035.5059075"
      ]
     },
     "execution_count": 78,
     "metadata": {},
     "output_type": "execute_result"
    }
   ],
   "source": [
    "# Test\n",
    "time.time()"
   ]
  },
  {
   "cell_type": "code",
   "execution_count": 162,
   "metadata": {},
   "outputs": [],
   "source": [
    "def delay(func,\n",
    "          minimal_call_timedelta = 10,\n",
    "          calls = list()\n",
    "          ):\n",
    "    \"\"\"Decorator that block the execution of a function\n",
    "    before a given delay\"\"\"\n",
    "    def wrapper(*args) -> any:\n",
    "        \"\"\"The wrapper return the function when two consecutive function call\n",
    "        are more than x seconds appart, with x a defined timedelta\"\"\"\n",
    "\n",
    "        # We append the call time to calls list\n",
    "        calls.append(time.time())\n",
    "\n",
    "        # The function is return at the first call\n",
    "        if len(calls) <= 1:\n",
    "\n",
    "            return func(*args)\n",
    "\n",
    "        # The function is not return when the timedelta between two following\n",
    "        # calls is less than the minimal timedelta. An error message is printed.\n",
    "        elif calls[-1] - calls[-2] < minimal_call_timedelta:\n",
    "            print(f\"You cannot make two following {func.__name__} calls less than {minimal_call_timedelta}s appart.\")\n",
    "\n",
    "            return\n",
    "\n",
    "        # In all other cases, the function is returned.\n",
    "        else:\n",
    "\n",
    "            return func(*args)\n",
    "\n",
    "    return wrapper\n"
   ]
  },
  {
   "cell_type": "code",
   "execution_count": 163,
   "metadata": {},
   "outputs": [],
   "source": [
    "@delay\n",
    "def f1():\n",
    "    print(\"Hello !\")"
   ]
  },
  {
   "cell_type": "code",
   "execution_count": 167,
   "metadata": {},
   "outputs": [
    {
     "name": "stdout",
     "output_type": "stream",
     "text": [
      "Hello !\n"
     ]
    }
   ],
   "source": [
    "f1()"
   ]
  },
  {
   "cell_type": "code",
   "execution_count": null,
   "metadata": {},
   "outputs": [],
   "source": []
  }
 ],
 "metadata": {
  "kernelspec": {
   "display_name": "re_forecast_env",
   "language": "python",
   "name": "python3"
  },
  "language_info": {
   "codemirror_mode": {
    "name": "ipython",
    "version": 3
   },
   "file_extension": ".py",
   "mimetype": "text/x-python",
   "name": "python",
   "nbconvert_exporter": "python",
   "pygments_lexer": "ipython3",
   "version": "3.10.6"
  }
 },
 "nbformat": 4,
 "nbformat_minor": 2
}
