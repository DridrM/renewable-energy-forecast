{
 "cells": [
  {
   "cell_type": "markdown",
   "metadata": {},
   "source": [
    "# Get data notebook"
   ]
  },
  {
   "cell_type": "markdown",
   "metadata": {},
   "source": [
    "This is the final step of the completion of the data package."
   ]
  },
  {
   "cell_type": "code",
   "execution_count": 30,
   "metadata": {},
   "outputs": [],
   "source": [
    "import time\n",
    "import datetime\n",
    "from copy import copy\n",
    "\n",
    "from re_forecast.data.utils import slice_dates"
   ]
  },
  {
   "cell_type": "markdown",
   "metadata": {},
   "source": [
    "## 1/ Creating timing management decorators"
   ]
  },
  {
   "cell_type": "markdown",
   "metadata": {},
   "source": [
    "The first step is to develop some timing management decorators to use with the 'get_data' funtions. Thsese timing management decorators will help respect the time delay between each API call imposed by the API provider (RTE in the first place)."
   ]
  },
  {
   "cell_type": "code",
   "execution_count": 78,
   "metadata": {},
   "outputs": [
    {
     "data": {
      "text/plain": [
       "1708209035.5059075"
      ]
     },
     "execution_count": 78,
     "metadata": {},
     "output_type": "execute_result"
    }
   ],
   "source": [
    "# Test\n",
    "time.time()"
   ]
  },
  {
   "cell_type": "code",
   "execution_count": 162,
   "metadata": {},
   "outputs": [],
   "source": [
    "def delay(func,\n",
    "          minimal_call_timedelta = 10,\n",
    "          calls = list()\n",
    "          ):\n",
    "    \"\"\"Decorator that block the execution of a function\n",
    "    before a given delay\"\"\"\n",
    "    def wrapper(*args) -> any:\n",
    "        \"\"\"The wrapper return the function when two consecutive function call\n",
    "        are more than x seconds appart, with x a defined timedelta\"\"\"\n",
    "\n",
    "        # We append the call time to calls list\n",
    "        calls.append(time.time())\n",
    "\n",
    "        # The function is return at the first call\n",
    "        if len(calls) <= 1:\n",
    "\n",
    "            return func(*args)\n",
    "\n",
    "        # The function is not return when the timedelta between two following\n",
    "        # calls is less than the minimal timedelta. An error message is printed.\n",
    "        elif calls[-1] - calls[-2] < minimal_call_timedelta:\n",
    "            print(f\"You cannot make two following {func.__name__} calls less than {minimal_call_timedelta}s appart.\")\n",
    "\n",
    "            return\n",
    "\n",
    "        # In all other cases, the function is returned.\n",
    "        else:\n",
    "\n",
    "            return func(*args)\n",
    "\n",
    "    return wrapper\n"
   ]
  },
  {
   "cell_type": "code",
   "execution_count": 163,
   "metadata": {},
   "outputs": [],
   "source": [
    "@delay\n",
    "def f1():\n",
    "    print(\"Hello !\")"
   ]
  },
  {
   "cell_type": "code",
   "execution_count": 167,
   "metadata": {},
   "outputs": [
    {
     "name": "stdout",
     "output_type": "stream",
     "text": [
      "Hello !\n"
     ]
    }
   ],
   "source": [
    "f1()"
   ]
  },
  {
   "cell_type": "markdown",
   "metadata": {},
   "source": [
    "## 2/ Create the slice dates function"
   ]
  },
  {
   "cell_type": "markdown",
   "metadata": {},
   "source": [
    "In order to be able to construct datasets that are over the timedelta limit fixed by the API (which start and end dates are more than the timedelta limit appart), we have to learn how to slice a time range into multiple sub time ranges, with the slice_dates function."
   ]
  },
  {
   "cell_type": "code",
   "execution_count": 29,
   "metadata": {},
   "outputs": [
    {
     "data": {
      "text/plain": [
       "[{'start_date': datetime.datetime(2022, 9, 1, 0, 0),\n",
       "  'end_date': datetime.datetime(2023, 2, 3, 0, 0)},\n",
       " {'start_date': datetime.datetime(2023, 2, 3, 1, 0),\n",
       "  'end_date': datetime.datetime(2023, 7, 8, 0, 0)},\n",
       " {'start_date': datetime.datetime(2023, 7, 8, 1, 0),\n",
       "  'end_date': datetime.datetime(2023, 12, 10, 0, 0)},\n",
       " {'start_date': datetime.datetime(2023, 12, 10, 1, 0),\n",
       "  'end_date': datetime.datetime(2024, 5, 13, 0, 0)},\n",
       " {'start_date': datetime.datetime(2024, 5, 13, 1, 0),\n",
       "  'end_date': datetime.datetime(2024, 10, 15, 0, 0)},\n",
       " {'start_date': datetime.datetime(2024, 10, 15, 1, 0),\n",
       "  'end_date': datetime.datetime(2024, 12, 1, 0, 0)}]"
      ]
     },
     "metadata": {},
     "output_type": "display_data"
    }
   ],
   "source": [
    "# Set the ressource_nb\n",
    "ressource_nb = 1\n",
    "\n",
    "# Set the start and end dates\n",
    "start_date = \"2022-09-01 00:00:00\"\n",
    "end_date = \"2024-12-01 00:00:00\"\n",
    "\n",
    "# Set the dt format\n",
    "dt_format = \"%Y-%m-%d %H:%M:%S\"\n",
    "\n",
    "# This is the timedelatas of one data point for each ressource called\n",
    "ressource_datapoint_timedelta = {1: datetime.timedelta(hours = 1),\n",
    "                                 2: datetime.timedelta(hours = 1),\n",
    "                                 3: datetime.timedelta(minutes = 15)}\n",
    "\n",
    "# Limit timedelta (time ranges) for one API call for each ressource\n",
    "ressource_time_delta = {1: 155, 2: 7, 3: 14}\n",
    "\n",
    "# We set the data point timedelta corresponding to the ressource called\n",
    "datapoint_timedelta = ressource_datapoint_timedelta[ressource_nb]\n",
    "# Set the timedelta _limit depending on the ressource called\n",
    "timedelta_limit = ressource_time_delta[ressource_nb]\n",
    "\n",
    "# Transform start and end dates into datetime objects\n",
    "start_date_dt = datetime.datetime.strptime(start_date, dt_format)\n",
    "end_date_dt = datetime.datetime.strptime(end_date, dt_format)\n",
    "\n",
    "# Compute the timedelta between end and start date\n",
    "timedelta = end_date_dt - start_date_dt\n",
    "\n",
    "# Divide the timedelta number of times that the timedelta limit fits in the\n",
    "# time range (interval_nb), and the remaining in days\n",
    "intervals_nb = timedelta.days // timedelta_limit\n",
    "\n",
    "# Transform days_remain and timedelta_limit in datetime timedelta object\n",
    "timedelta_limit_dt = datetime.timedelta(days = timedelta_limit)\n",
    "\n",
    "# Create the timeranges list\n",
    "timeranges = list()\n",
    "\n",
    "# Iterate over the intervals_nb to create the time subranges if the interval_nb is more than 0\n",
    "if intervals_nb >= 1:\n",
    "    for interval in range(intervals_nb):\n",
    "        # Create a subrange dict\n",
    "        subrange = dict()\n",
    "\n",
    "        # Create the start_date and the end_date of this time range\n",
    "        start_date_dt_sub = start_date_dt + interval * timedelta_limit_dt\n",
    "        end_date_dt_sub = start_date_dt + (interval + 1) * timedelta_limit_dt\n",
    "\n",
    "        # Fill the subrange dict\n",
    "        # If the second sub start_date is filled, it is shifted so that there is no\n",
    "        # overlaping point in the dataset downloaded via the API\n",
    "        if interval >= 1:\n",
    "            subrange[\"start_date\"] = start_date_dt_sub + datapoint_timedelta\n",
    "\n",
    "        # If this is the first start date, there is no shift\n",
    "        else:\n",
    "            subrange[\"start_date\"] = start_date_dt_sub\n",
    "\n",
    "        subrange[\"end_date\"] = end_date_dt_sub\n",
    "\n",
    "        # Add the subrange dict to the timeranges list\n",
    "        timeranges.append(subrange)\n",
    "\n",
    "    # Append the remaining time range\n",
    "    remaining_start_date_dt = timeranges[-1][\"end_date\"] + datapoint_timedelta\n",
    "    timeranges.append({\"start_date\": remaining_start_date_dt,\n",
    "                       \"end_date\": end_date_dt})\n",
    "\n",
    "# If the intervals_nb is 0, just append the start and the end date\n",
    "else:\n",
    "    timeranges.append({\"start_date\": start_date_dt,\n",
    "                       \"end_date\": end_date_dt})\n",
    "\n",
    "# Show the resulting timeranges list\n",
    "display(timeranges)"
   ]
  },
  {
   "cell_type": "code",
   "execution_count": 36,
   "metadata": {},
   "outputs": [
    {
     "data": {
      "text/plain": [
       "[{'start_date': datetime.datetime(2022, 9, 1, 0, 0),\n",
       "  'end_date': datetime.datetime(2023, 2, 3, 0, 0)},\n",
       " {'start_date': datetime.datetime(2023, 2, 3, 1, 0),\n",
       "  'end_date': datetime.datetime(2023, 7, 8, 0, 0)},\n",
       " {'start_date': datetime.datetime(2023, 7, 8, 1, 0),\n",
       "  'end_date': datetime.datetime(2023, 12, 1, 0, 0)}]"
      ]
     },
     "execution_count": 36,
     "metadata": {},
     "output_type": "execute_result"
    }
   ],
   "source": [
    "# Set the ressource_nb\n",
    "ressource_nb = 1\n",
    "\n",
    "# Set the start and end dates\n",
    "start_date = \"2022-09-01 00:00:00\"\n",
    "end_date = \"2023-12-01 00:00:00\"\n",
    "\n",
    "# Test the slice dates function\n",
    "slice_dates(ressource_nb,\n",
    "            start_date,\n",
    "            end_date)"
   ]
  },
  {
   "cell_type": "code",
   "execution_count": null,
   "metadata": {},
   "outputs": [],
   "source": []
  }
 ],
 "metadata": {
  "kernelspec": {
   "display_name": "re_forecast_env",
   "language": "python",
   "name": "python3"
  },
  "language_info": {
   "codemirror_mode": {
    "name": "ipython",
    "version": 3
   },
   "file_extension": ".py",
   "mimetype": "text/x-python",
   "name": "python",
   "nbconvert_exporter": "python",
   "pygments_lexer": "ipython3",
   "version": "3.10.6"
  }
 },
 "nbformat": 4,
 "nbformat_minor": 2
}
