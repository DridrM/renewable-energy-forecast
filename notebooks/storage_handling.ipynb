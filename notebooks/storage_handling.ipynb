{
 "cells": [
  {
   "cell_type": "markdown",
   "metadata": {},
   "source": [
    "# Storage handling"
   ]
  },
  {
   "cell_type": "markdown",
   "metadata": {},
   "source": [
    "In this notebook, we will test the functions in utils made for storage handling and management."
   ]
  },
  {
   "cell_type": "code",
   "execution_count": 21,
   "metadata": {},
   "outputs": [],
   "source": [
    "from re_forecast.data.utils import handle_params_storage\n",
    "from re_forecast.data.manage_data_storage import create_metadata_row, file_exists, read_register"
   ]
  },
  {
   "cell_type": "markdown",
   "metadata": {},
   "source": [
    "## 1/ Test the params storage handling"
   ]
  },
  {
   "cell_type": "code",
   "execution_count": 2,
   "metadata": {},
   "outputs": [
    {
     "name": "stdout",
     "output_type": "stream",
     "text": [
      "{'start_date': '2022-09-01_00:00:00', 'end_date': '2022-12-01_00:00:00', 'eic_code': None, 'prod_type': 'all-units', 'prod_subtype': None}\n"
     ]
    }
   ],
   "source": [
    "# Set all the params\n",
    "ressource = 1\n",
    "start_date = \"2022-09-01 00:00:00\"\n",
    "end_date = \"2022-12-01 00:00:00\"\n",
    "eic_code = None\n",
    "prod_type = None\n",
    "prod_subtype = None\n",
    "\n",
    "params = handle_params_storage(ressource,\n",
    "                               start_date,\n",
    "                               end_date,\n",
    "                               eic_code,\n",
    "                               prod_type,\n",
    "                               prod_subtype)\n",
    "\n",
    "print(params)"
   ]
  },
  {
   "cell_type": "markdown",
   "metadata": {},
   "source": [
    "## 2/ Test the creation of metadata row"
   ]
  },
  {
   "cell_type": "code",
   "execution_count": 3,
   "metadata": {},
   "outputs": [
    {
     "data": {
      "text/plain": [
       "{'start_date': '2022-09-01_00:00:00',\n",
       " 'end_date': '2022-12-01_00:00:00',\n",
       " 'eic_code': None,\n",
       " 'prod_type': 'all-units',\n",
       " 'prod_subtype': None,\n",
       " 'creation_date': '2024-03-04_17:52:07',\n",
       " 'ressource': 'actual_generations_per_production_type',\n",
       " 'file_name': 'actual_generations_per_production_type__2022-09-01_00:00:00__2022-12-01_00:00:00__all-units.csv',\n",
       " 'hash_id': 3101945448647542265}"
      ]
     },
     "metadata": {},
     "output_type": "display_data"
    },
    {
     "data": {
      "text/plain": [
       "'actual_generations_per_production_type__2022-09-01_00:00:00__2022-12-01_00:00:00__all-units.csv'"
      ]
     },
     "metadata": {},
     "output_type": "display_data"
    }
   ],
   "source": [
    "row = create_metadata_row(ressource,\n",
    "                          start_date,\n",
    "                          end_date,\n",
    "                          eic_code,\n",
    "                          prod_type,\n",
    "                          prod_subtype)\n",
    "\n",
    "display(row)\n",
    "display(row[\"file_name\"])"
   ]
  },
  {
   "cell_type": "markdown",
   "metadata": {},
   "source": [
    "## 3/ Test the file_exists function from the storage handling module"
   ]
  },
  {
   "cell_type": "code",
   "execution_count": 20,
   "metadata": {},
   "outputs": [
    {
     "data": {
      "text/html": [
       "<div>\n",
       "<style scoped>\n",
       "    .dataframe tbody tr th:only-of-type {\n",
       "        vertical-align: middle;\n",
       "    }\n",
       "\n",
       "    .dataframe tbody tr th {\n",
       "        vertical-align: top;\n",
       "    }\n",
       "\n",
       "    .dataframe thead th {\n",
       "        text-align: right;\n",
       "    }\n",
       "</style>\n",
       "<table border=\"1\" class=\"dataframe\">\n",
       "  <thead>\n",
       "    <tr style=\"text-align: right;\">\n",
       "      <th></th>\n",
       "      <th>hash_id</th>\n",
       "      <th>creation_date</th>\n",
       "      <th>ressource</th>\n",
       "      <th>start_date</th>\n",
       "      <th>end_date</th>\n",
       "      <th>eic_code</th>\n",
       "      <th>prod_type</th>\n",
       "      <th>prod_subtype</th>\n",
       "      <th>file_name</th>\n",
       "    </tr>\n",
       "  </thead>\n",
       "  <tbody>\n",
       "    <tr>\n",
       "      <th>0</th>\n",
       "      <td>-8485581337740194430</td>\n",
       "      <td>2024-02-25_21:01:33</td>\n",
       "      <td>generation_mix_15min_time_scale</td>\n",
       "      <td>2024-02-25_00:00:00</td>\n",
       "      <td>2024-02-25_23:45:00</td>\n",
       "      <td>NaN</td>\n",
       "      <td>NaN</td>\n",
       "      <td>all-units</td>\n",
       "      <td>generation_mix_15min_time_scale__2024-02-25_00...</td>\n",
       "    </tr>\n",
       "    <tr>\n",
       "      <th>1</th>\n",
       "      <td>5044834331906251745</td>\n",
       "      <td>2024-02-25_22:15:08</td>\n",
       "      <td>actual_generations_per_production_type</td>\n",
       "      <td>2024-02-25_00:00:00</td>\n",
       "      <td>2024-02-25_23:00:00</td>\n",
       "      <td>NaN</td>\n",
       "      <td>all-units</td>\n",
       "      <td>NaN</td>\n",
       "      <td>actual_generations_per_production_type__2024-0...</td>\n",
       "    </tr>\n",
       "    <tr>\n",
       "      <th>2</th>\n",
       "      <td>-1448265131534250708</td>\n",
       "      <td>2024-02-25_22:15:08</td>\n",
       "      <td>generation_mix_15min_time_scale</td>\n",
       "      <td>2024-02-25_00:00:00</td>\n",
       "      <td>2024-02-25_23:45:00</td>\n",
       "      <td>NaN</td>\n",
       "      <td>NaN</td>\n",
       "      <td>all-units</td>\n",
       "      <td>generation_mix_15min_time_scale__2024-02-25_00...</td>\n",
       "    </tr>\n",
       "  </tbody>\n",
       "</table>\n",
       "</div>"
      ],
      "text/plain": [
       "               hash_id        creation_date  \\\n",
       "0 -8485581337740194430  2024-02-25_21:01:33   \n",
       "1  5044834331906251745  2024-02-25_22:15:08   \n",
       "2 -1448265131534250708  2024-02-25_22:15:08   \n",
       "\n",
       "                                ressource           start_date  \\\n",
       "0         generation_mix_15min_time_scale  2024-02-25_00:00:00   \n",
       "1  actual_generations_per_production_type  2024-02-25_00:00:00   \n",
       "2         generation_mix_15min_time_scale  2024-02-25_00:00:00   \n",
       "\n",
       "              end_date  eic_code  prod_type prod_subtype  \\\n",
       "0  2024-02-25_23:45:00       NaN        NaN    all-units   \n",
       "1  2024-02-25_23:00:00       NaN  all-units          NaN   \n",
       "2  2024-02-25_23:45:00       NaN        NaN    all-units   \n",
       "\n",
       "                                           file_name  \n",
       "0  generation_mix_15min_time_scale__2024-02-25_00...  \n",
       "1  actual_generations_per_production_type__2024-0...  \n",
       "2  generation_mix_15min_time_scale__2024-02-25_00...  "
      ]
     },
     "metadata": {},
     "output_type": "display_data"
    },
    {
     "data": {
      "text/plain": [
       "'actual_generations_per_production_type__2024-02-25_00:00:00__2024-02-25_23:00:00__all-units.csv'"
      ]
     },
     "metadata": {},
     "output_type": "display_data"
    }
   ],
   "source": [
    "# Show the register\n",
    "register = read_register()\n",
    "\n",
    "display(register)\n",
    "\n",
    "display(register.loc[1, 'file_name'])"
   ]
  },
  {
   "cell_type": "code",
   "execution_count": 26,
   "metadata": {},
   "outputs": [
    {
     "name": "stdout",
     "output_type": "stream",
     "text": [
      "actual_generations_per_production_type__2024-02-25_00:00:00__2024-02-25_23:00:00__all-units.csv -8389763595882955431\n"
     ]
    },
    {
     "data": {
      "text/plain": [
       "False"
      ]
     },
     "execution_count": 26,
     "metadata": {},
     "output_type": "execute_result"
    }
   ],
   "source": [
    "# Set all the params\n",
    "ressource = 1\n",
    "start_date = \"2024-02-25 00:00:00\"\n",
    "end_date = \"2024-02-25 23:00:00\"\n",
    "eic_code = None\n",
    "prod_type = None\n",
    "prod_subtype = None\n",
    "creation_date = \"2024-02-25_22:15:08\"\n",
    "\n",
    "# First test if a false query on the register return None or an error\n",
    "file_exists(ressource,\n",
    "            start_date,\n",
    "            end_date,\n",
    "            eic_code,\n",
    "            prod_type,\n",
    "            prod_subtype,\n",
    "            creation_date)"
   ]
  },
  {
   "cell_type": "code",
   "execution_count": null,
   "metadata": {},
   "outputs": [],
   "source": []
  }
 ],
 "metadata": {
  "kernelspec": {
   "display_name": "re_forecast_env",
   "language": "python",
   "name": "python3"
  },
  "language_info": {
   "codemirror_mode": {
    "name": "ipython",
    "version": 3
   },
   "file_extension": ".py",
   "mimetype": "text/x-python",
   "name": "python",
   "nbconvert_exporter": "python",
   "pygments_lexer": "ipython3",
   "version": "3.10.6"
  }
 },
 "nbformat": 4,
 "nbformat_minor": 2
}
