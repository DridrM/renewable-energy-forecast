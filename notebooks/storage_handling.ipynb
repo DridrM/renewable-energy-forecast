{
 "cells": [
  {
   "cell_type": "markdown",
   "metadata": {},
   "source": [
    "# Storage handling"
   ]
  },
  {
   "cell_type": "markdown",
   "metadata": {},
   "source": [
    "In this notebook, we will test the functions in utils made for storage handling and management."
   ]
  },
  {
   "cell_type": "code",
   "execution_count": 3,
   "metadata": {},
   "outputs": [],
   "source": [
    "from re_forecast.data.utils import handle_params_storage"
   ]
  },
  {
   "cell_type": "markdown",
   "metadata": {},
   "source": [
    "## 1/ Test the params storage handling"
   ]
  },
  {
   "cell_type": "code",
   "execution_count": 9,
   "metadata": {},
   "outputs": [
    {
     "name": "stdout",
     "output_type": "stream",
     "text": [
      "At least one of the dates is not provided\n"
     ]
    },
    {
     "data": {
      "text/plain": [
       "{'start_date': '2024-02-12 00:00:00',\n",
       " 'end_date': '2024-02-12 23:00:00',\n",
       " 'eic_code': None,\n",
       " 'prod_type': 'all-units',\n",
       " 'prod_subtype': None}"
      ]
     },
     "execution_count": 9,
     "metadata": {},
     "output_type": "execute_result"
    }
   ],
   "source": [
    "# Set all the params\n",
    "ressource = 1\n",
    "start_date = None\n",
    "end_date = \"2022-12-01 00:00:00\"\n",
    "eic_code = None\n",
    "prod_type = None\n",
    "prod_subtype = None\n",
    "\n",
    "handle_params_storage(ressource,\n",
    "                      start_date,\n",
    "                      end_date,\n",
    "                      eic_code,\n",
    "                      prod_type,\n",
    "                      prod_subtype)"
   ]
  },
  {
   "cell_type": "code",
   "execution_count": null,
   "metadata": {},
   "outputs": [],
   "source": []
  }
 ],
 "metadata": {
  "kernelspec": {
   "display_name": "re_forecast_env",
   "language": "python",
   "name": "python3"
  },
  "language_info": {
   "codemirror_mode": {
    "name": "ipython",
    "version": 3
   },
   "file_extension": ".py",
   "mimetype": "text/x-python",
   "name": "python",
   "nbconvert_exporter": "python",
   "pygments_lexer": "ipython3",
   "version": "3.10.6"
  }
 },
 "nbformat": 4,
 "nbformat_minor": 2
}
