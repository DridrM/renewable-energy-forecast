{
 "cells": [
  {
   "cell_type": "markdown",
   "metadata": {},
   "source": [
    "# Storage handling"
   ]
  },
  {
   "cell_type": "markdown",
   "metadata": {},
   "source": [
    "In this notebook, we will test the functions in utils made for storage handling and management."
   ]
  },
  {
   "cell_type": "code",
   "execution_count": 1,
   "metadata": {},
   "outputs": [],
   "source": [
    "from re_forecast.data.utils import handle_params_storage\n",
    "from re_forecast.data.manage_data_storage import create_metadata_row"
   ]
  },
  {
   "cell_type": "markdown",
   "metadata": {},
   "source": [
    "## 1/ Test the params storage handling"
   ]
  },
  {
   "cell_type": "code",
   "execution_count": 2,
   "metadata": {},
   "outputs": [
    {
     "name": "stdout",
     "output_type": "stream",
     "text": [
      "{'start_date': '2022-09-01_00:00:00', 'end_date': '2022-12-01_00:00:00', 'eic_code': None, 'prod_type': 'all-units', 'prod_subtype': None}\n"
     ]
    }
   ],
   "source": [
    "# Set all the params\n",
    "ressource = 1\n",
    "start_date = \"2022-09-01 00:00:00\"\n",
    "end_date = \"2022-12-01 00:00:00\"\n",
    "eic_code = None\n",
    "prod_type = None\n",
    "prod_subtype = None\n",
    "\n",
    "params = handle_params_storage(ressource,\n",
    "                               start_date,\n",
    "                               end_date,\n",
    "                               eic_code,\n",
    "                               prod_type,\n",
    "                               prod_subtype)\n",
    "\n",
    "print(params)"
   ]
  },
  {
   "cell_type": "markdown",
   "metadata": {},
   "source": [
    "## 2/ Test the creation of metadata row"
   ]
  },
  {
   "cell_type": "code",
   "execution_count": 3,
   "metadata": {},
   "outputs": [
    {
     "data": {
      "text/plain": [
       "{'start_date': '2022-09-01_00:00:00',\n",
       " 'end_date': '2022-12-01_00:00:00',\n",
       " 'eic_code': None,\n",
       " 'prod_type': 'all-units',\n",
       " 'prod_subtype': None,\n",
       " 'creation_date': '2024-02-14_20:24:45',\n",
       " 'ressource': 'actual_generations_per_production_type',\n",
       " 'file_name': 'actual_generations_per_production_type__2022-09-01_00:00:00__2022-12-01_00:00:00__all-units.csv',\n",
       " 'hash_id': 5516865601304462550}"
      ]
     },
     "metadata": {},
     "output_type": "display_data"
    },
    {
     "data": {
      "text/plain": [
       "'actual_generations_per_production_type__2022-09-01_00:00:00__2022-12-01_00:00:00__all-units.csv'"
      ]
     },
     "metadata": {},
     "output_type": "display_data"
    }
   ],
   "source": [
    "row = create_metadata_row(ressource,\n",
    "                          start_date,\n",
    "                          end_date,\n",
    "                          eic_code,\n",
    "                          prod_type,\n",
    "                          prod_subtype)\n",
    "\n",
    "display(row)\n",
    "display(row[\"file_name\"])"
   ]
  },
  {
   "cell_type": "code",
   "execution_count": null,
   "metadata": {},
   "outputs": [],
   "source": []
  }
 ],
 "metadata": {
  "kernelspec": {
   "display_name": "re_forecast_env",
   "language": "python",
   "name": "python3"
  },
  "language_info": {
   "codemirror_mode": {
    "name": "ipython",
    "version": 3
   },
   "file_extension": ".py",
   "mimetype": "text/x-python",
   "name": "python",
   "nbconvert_exporter": "python",
   "pygments_lexer": "ipython3",
   "version": "3.10.6"
  }
 },
 "nbformat": 4,
 "nbformat_minor": 2
}
